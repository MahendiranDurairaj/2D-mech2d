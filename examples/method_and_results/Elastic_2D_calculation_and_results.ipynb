{
 "cells": [
  {
   "cell_type": "code",
   "execution_count": 1,
   "metadata": {},
   "outputs": [],
   "source": [
    "import sympy\n",
    "import numpy as np\n",
    "from IPython.display import display\n",
    "from sympy import diff\n",
    "\n",
    "#strain list\n",
    "\n",
    "Ls_Dic={\n",
    "'01':[ 1., 0., 0., 0., 0., 0.],\n",
    "'02':[ 1., 1., 0., 0., 0., 0.],\n",
    "'03':[ 0., 1., 0., 0., 0., 0.],\n",
    "'04':[ 0., 0., 0., 0., 0., 2.],\n",
    "'05':[ 1., 0., 0., 0., 0., 2.],\n",
    "'06':[ 0., 1., 0., 0., 0., 2.]}\n"
   ]
  },
  {
   "cell_type": "markdown",
   "metadata": {},
   "source": [
    "# Energy method for  Cubic system (As a general test)"
   ]
  },
  {
   "cell_type": "code",
   "execution_count": 2,
   "metadata": {
    "scrolled": false
   },
   "outputs": [
    {
     "data": {
      "text/latex": [
       "$\\displaystyle \\left[\\begin{matrix}c_{11} & c_{12} & c_{12} & 0.0 & 0.0 & 0.0\\\\c_{12} & c_{11} & c_{12} & 0.0 & 0.0 & 0.0\\\\c_{12} & c_{12} & c_{11} & 0.0 & 0.0 & 0.0\\\\0.0 & 0.0 & 0.0 & c_{44} & 0.0 & 0.0\\\\0.0 & 0.0 & 0.0 & 0.0 & c_{44} & 0.0\\\\0.0 & 0.0 & 0.0 & 0.0 & 0.0 & c_{44}\\end{matrix}\\right]$"
      ],
      "text/plain": [
       "Matrix([\n",
       "[c11, c12, c12, 0.0, 0.0, 0.0],\n",
       "[c12, c11, c12, 0.0, 0.0, 0.0],\n",
       "[c12, c12, c11, 0.0, 0.0, 0.0],\n",
       "[0.0, 0.0, 0.0, c44, 0.0, 0.0],\n",
       "[0.0, 0.0, 0.0, 0.0, c44, 0.0],\n",
       "[0.0, 0.0, 0.0, 0.0, 0.0, c44]])"
      ]
     },
     "metadata": {},
     "output_type": "display_data"
    },
    {
     "data": {
      "text/latex": [
       "$\\displaystyle \\left[\\begin{matrix}\\eta_{1} & ebta_{2} & \\eta_{3} & \\eta_{4} & \\eta_{5} & \\eta_{6}\\end{matrix}\\right]$"
      ],
      "text/plain": [
       "Matrix([[eta_1, ebta_2, eta_3, eta_4, eta_5, eta_6]])"
      ]
     },
     "metadata": {},
     "output_type": "display_data"
    },
    {
     "data": {
      "text/latex": [
       "$\\displaystyle \\frac{V_{0} c_{11} ebta_{2}^{2}}{2} + \\frac{V_{0} c_{11} \\eta_{1}^{2}}{2} + \\frac{V_{0} c_{11} \\eta_{3}^{2}}{2} + V_{0} c_{12} ebta_{2} \\eta_{1} + V_{0} c_{12} ebta_{2} \\eta_{3} + V_{0} c_{12} \\eta_{1} \\eta_{3} + \\frac{V_{0} c_{44} \\eta_{4}^{2}}{2} + \\frac{V_{0} c_{44} \\eta_{5}^{2}}{2} + \\frac{V_{0} c_{44} \\eta_{6}^{2}}{2}$"
      ],
      "text/plain": [
       "V_0*c11*ebta_2**2/2 + V_0*c11*eta_1**2/2 + V_0*c11*eta_3**2/2 + V_0*c12*ebta_2*eta_1 + V_0*c12*ebta_2*eta_3 + V_0*c12*eta_1*eta_3 + V_0*c44*eta_4**2/2 + V_0*c44*eta_5**2/2 + V_0*c44*eta_6**2/2"
      ]
     },
     "metadata": {},
     "output_type": "display_data"
    },
    {
     "name": "stdout",
     "output_type": "stream",
     "text": [
      "L strain:\n"
     ]
    },
    {
     "data": {
      "text/latex": [
       "$\\displaystyle \\left[\\begin{matrix}\\eta & \\eta & \\eta & 0 & 0 & 0\\end{matrix}\\right]$"
      ],
      "text/plain": [
       "Matrix([[eta, eta, eta, 0, 0, 0]])"
      ]
     },
     "metadata": {},
     "output_type": "display_data"
    },
    {
     "data": {
      "text/latex": [
       "$\\displaystyle \\frac{3 V_{0} c_{11} \\eta^{2}}{2} + 3 V_{0} c_{12} \\eta^{2}$"
      ],
      "text/plain": [
       "3*V_0*c11*eta**2/2 + 3*V_0*c12*eta**2"
      ]
     },
     "metadata": {},
     "output_type": "display_data"
    },
    {
     "name": "stdout",
     "output_type": "stream",
     "text": [
      "------------------------------\n",
      "L strain:\n"
     ]
    },
    {
     "data": {
      "text/latex": [
       "$\\displaystyle \\left[\\begin{matrix}\\eta & \\eta & 0 & 0 & 0 & 0\\end{matrix}\\right]$"
      ],
      "text/plain": [
       "Matrix([[eta, eta, 0, 0, 0, 0]])"
      ]
     },
     "metadata": {},
     "output_type": "display_data"
    },
    {
     "data": {
      "text/latex": [
       "$\\displaystyle V_{0} c_{11} \\eta^{2} + V_{0} c_{12} \\eta^{2}$"
      ],
      "text/plain": [
       "V_0*c11*eta**2 + V_0*c12*eta**2"
      ]
     },
     "metadata": {},
     "output_type": "display_data"
    },
    {
     "name": "stdout",
     "output_type": "stream",
     "text": [
      "------------------------------\n",
      "L strain:\n"
     ]
    },
    {
     "data": {
      "text/latex": [
       "$\\displaystyle \\left[\\begin{matrix}0 & 0 & 0 & 2 \\eta & 2 \\eta & 2 \\eta\\end{matrix}\\right]$"
      ],
      "text/plain": [
       "Matrix([[0, 0, 0, 2*eta, 2*eta, 2*eta]])"
      ]
     },
     "metadata": {},
     "output_type": "display_data"
    },
    {
     "data": {
      "text/latex": [
       "$\\displaystyle 6 V_{0} c_{44} \\eta^{2}$"
      ],
      "text/plain": [
       "6*V_0*c44*eta**2"
      ]
     },
     "metadata": {},
     "output_type": "display_data"
    }
   ],
   "source": [
    "\n",
    "c11,c12,c44=sympy.symbols('c11 c12 c44')\n",
    "y1,y2,y3, y4, y5,y6 = sympy.symbols('eta_1 ebta_2 eta_3 eta_4 eta_5 eta_6')\n",
    "V=sympy.symbols('V_0')\n",
    "y=sympy.symbols('eta')\n",
    "\n",
    "C=sympy.Matrix(np.zeros((6,6)))\n",
    "\n",
    "C[0,0]=c11\n",
    "C[1,1]=c11\n",
    "C[2,2]=c11\n",
    "C[3,3]=c44\n",
    "C[4,4]=c44\n",
    "C[5,5]=c44\n",
    "C[0,1]=c12\n",
    "C[1,0]=c12\n",
    "C[0,2]=c12\n",
    "C[2,0]=c12\n",
    "C[1,2]=c12\n",
    "C[2,1]=c12\n",
    "\n",
    "display(C)\n",
    "\n",
    "eps=sympy.Matrix([y1,y2,y3,y4,y5,y6])\n",
    "\n",
    "\n",
    "display(eps.T)\n",
    "\n",
    "E=sympy.expand(eps.T*C*eps*V/2)[0]\n",
    "display(E)\n",
    "\n",
    "#diff(E,y3,2)\n",
    "\n",
    "# for cubic system\n",
    "print('L strain:')\n",
    "display(sympy.Matrix([y,y,y,0,0,0]).T)\n",
    "E1=E.subs({y1:y,y2:y,y3:y,y4:0,y5:0,y6:0})\n",
    "display(E1)\n",
    "print('-'*30)\n",
    "print('L strain:')\n",
    "display(sympy.Matrix([y,y,0,0,0,0]).T)\n",
    "E2=E.subs({y1:y,y2:y,y3:0,y4:0,y5:0,y6:0})\n",
    "display(E2)\n",
    "print('-'*30)\n",
    "print('L strain:')\n",
    "display(sympy.Matrix([0,0,0,2*y,2*y,2*y]).T)\n",
    "E3=E.subs({y1:0,y2:0,y3:0,y4:2*y,y5:2*y,y6:2*y})\n",
    "display(E3)"
   ]
  },
  {
   "cell_type": "markdown",
   "metadata": {},
   "source": [
    "# Energy method for  2D Hex system"
   ]
  },
  {
   "cell_type": "code",
   "execution_count": 3,
   "metadata": {},
   "outputs": [
    {
     "data": {
      "text/latex": [
       "$\\displaystyle \\left[\\begin{matrix}c_{11} & c_{12} & 0.0 & 0.0 & 0.0 & 0.0\\\\c_{12} & c_{11} & 0.0 & 0.0 & 0.0 & 0.0\\\\0.0 & 0.0 & 0.0 & 0.0 & 0.0 & 0.0\\\\0.0 & 0.0 & 0.0 & 0.0 & 0.0 & 0.0\\\\0.0 & 0.0 & 0.0 & 0.0 & 0.0 & 0.0\\\\0.0 & 0.0 & 0.0 & 0.0 & 0.0 & \\frac{c_{11}}{2} - \\frac{c_{12}}{2}\\end{matrix}\\right]$"
      ],
      "text/plain": [
       "Matrix([\n",
       "[c11, c12, 0.0, 0.0, 0.0,           0.0],\n",
       "[c12, c11, 0.0, 0.0, 0.0,           0.0],\n",
       "[0.0, 0.0, 0.0, 0.0, 0.0,           0.0],\n",
       "[0.0, 0.0, 0.0, 0.0, 0.0,           0.0],\n",
       "[0.0, 0.0, 0.0, 0.0, 0.0,           0.0],\n",
       "[0.0, 0.0, 0.0, 0.0, 0.0, c11/2 - c12/2]])"
      ]
     },
     "metadata": {},
     "output_type": "display_data"
    },
    {
     "data": {
      "text/latex": [
       "$\\displaystyle \\left[\\begin{matrix}\\eta_{1} & \\eta_{2} & \\eta_{3} & \\eta_{4} & \\eta_{5} & \\eta_{6}\\end{matrix}\\right]$"
      ],
      "text/plain": [
       "Matrix([[eta_1, eta_2, eta_3, eta_4, eta_5, eta_6]])"
      ]
     },
     "metadata": {},
     "output_type": "display_data"
    },
    {
     "data": {
      "text/latex": [
       "$\\displaystyle \\frac{V_{0} c_{11} \\eta_{1}^{2}}{2} + \\frac{V_{0} c_{11} \\eta_{2}^{2}}{2} + \\frac{V_{0} c_{11} \\eta_{6}^{2}}{4} + V_{0} c_{12} \\eta_{1} \\eta_{2} - \\frac{V_{0} c_{12} \\eta_{6}^{2}}{4}$"
      ],
      "text/plain": [
       "V_0*c11*eta_1**2/2 + V_0*c11*eta_2**2/2 + V_0*c11*eta_6**2/4 + V_0*c12*eta_1*eta_2 - V_0*c12*eta_6**2/4"
      ]
     },
     "metadata": {},
     "output_type": "display_data"
    },
    {
     "name": "stdout",
     "output_type": "stream",
     "text": [
      "------------------------------\n",
      "L strain:\n"
     ]
    },
    {
     "data": {
      "text/latex": [
       "$\\displaystyle \\left[\\begin{matrix}\\eta & 0 & 0 & 0 & 0 & 0\\end{matrix}\\right]$"
      ],
      "text/plain": [
       "Matrix([[eta, 0, 0, 0, 0, 0]])"
      ]
     },
     "metadata": {},
     "output_type": "display_data"
    },
    {
     "data": {
      "text/latex": [
       "$\\displaystyle \\frac{V_{0} c_{11} \\eta^{2}}{2}$"
      ],
      "text/plain": [
       "V_0*c11*eta**2/2"
      ]
     },
     "metadata": {},
     "output_type": "display_data"
    },
    {
     "name": "stdout",
     "output_type": "stream",
     "text": [
      "L strain:\n"
     ]
    },
    {
     "data": {
      "text/latex": [
       "$\\displaystyle \\left[\\begin{matrix}\\eta & \\eta & 0 & 0 & 0 & 0\\end{matrix}\\right]$"
      ],
      "text/plain": [
       "Matrix([[eta, eta, 0, 0, 0, 0]])"
      ]
     },
     "metadata": {},
     "output_type": "display_data"
    },
    {
     "data": {
      "text/latex": [
       "$\\displaystyle V_{0} c_{11} \\eta^{2} + V_{0} c_{12} \\eta^{2}$"
      ],
      "text/plain": [
       "V_0*c11*eta**2 + V_0*c12*eta**2"
      ]
     },
     "metadata": {},
     "output_type": "display_data"
    }
   ],
   "source": [
    "#hex system\n",
    "c11,c12=sympy.symbols('c11 c12')\n",
    "y1,y2,y3, y4, y5,y6 = sympy.symbols('eta_1 eta_2 eta_3 eta_4 eta_5 eta_6')\n",
    "V=sympy.symbols('V_0')\n",
    "y=sympy.symbols('eta')\n",
    "\n",
    "C_hex=sympy.Matrix(np.zeros((6,6)))\n",
    "C_hex[0,0]=c11\n",
    "C_hex[1,1]=c11\n",
    "C_hex[5,5]=(c11-c12)/2\n",
    "C_hex[0,1]=c12\n",
    "C_hex[1,0]=c12\n",
    "\n",
    "\n",
    "display(C_hex)\n",
    "\n",
    "eps=sympy.Matrix([y1,y2,y3,y4,y5,y6])\n",
    "\n",
    "\n",
    "display(eps.T)\n",
    "\n",
    "E=sympy.expand(eps.T*C_hex*eps*V/2)[0]\n",
    "display(E)\n",
    "\n",
    "\n",
    "print('-'*30)\n",
    "print('L strain:')\n",
    "display(sympy.Matrix([y,0,0,0,0,0]).T)\n",
    "E1=E.subs({y1:y,y2:0,y3:0,y4:0,y5:0,y6:0})\n",
    "display(E1)\n",
    "\n",
    "\n",
    "# for hex system\n",
    "print('L strain:')\n",
    "display(sympy.Matrix([y,y,0,0,0,0]).T)\n",
    "E2=E.subs({y1:y,y2:y,y3:0,y4:0,y5:0,y6:0})\n",
    "display(E2)\n"
   ]
  },
  {
   "cell_type": "markdown",
   "metadata": {},
   "source": [
    "## hexagonal lattice (V)\n",
    "\n",
    "the selected L strain is :\n",
    "\n",
    "[𝜂00000] ----> 01 A2[0]\n",
    "\n",
    "and\n",
    "\n",
    "[𝜂𝜂0000]  ---->  02 A2[1]\n",
    "\n",
    " \n",
    "\n",
    "\n",
    "$C_{11}=2*A_2[0]$\n",
    "\n",
    "$C_{11}+C_{12}=A_2[1]$\n",
    "\n",
    "result:\n",
    "\n",
    "$C_{11}=2*A_2[0]$   and  $C_{12}=A_2[1]-2*A_2[0]$\n",
    "\n",
    "\n",
    "The Born condition is:\n",
    "\n",
    "$C_{11}>0 \\& C_{11}>|C_{12}| $"
   ]
  },
  {
   "cell_type": "markdown",
   "metadata": {},
   "source": [
    "# Energy method  for  2D Sqr system"
   ]
  },
  {
   "cell_type": "code",
   "execution_count": 4,
   "metadata": {},
   "outputs": [
    {
     "data": {
      "text/latex": [
       "$\\displaystyle \\left[\\begin{matrix}c_{11} & c_{12} & 0.0 & 0.0 & 0.0 & 0.0\\\\c_{12} & c_{11} & 0.0 & 0.0 & 0.0 & 0.0\\\\0.0 & 0.0 & 0.0 & 0.0 & 0.0 & 0.0\\\\0.0 & 0.0 & 0.0 & 0.0 & 0.0 & 0.0\\\\0.0 & 0.0 & 0.0 & 0.0 & 0.0 & 0.0\\\\0.0 & 0.0 & 0.0 & 0.0 & 0.0 & c_{66}\\end{matrix}\\right]$"
      ],
      "text/plain": [
       "Matrix([\n",
       "[c11, c12, 0.0, 0.0, 0.0, 0.0],\n",
       "[c12, c11, 0.0, 0.0, 0.0, 0.0],\n",
       "[0.0, 0.0, 0.0, 0.0, 0.0, 0.0],\n",
       "[0.0, 0.0, 0.0, 0.0, 0.0, 0.0],\n",
       "[0.0, 0.0, 0.0, 0.0, 0.0, 0.0],\n",
       "[0.0, 0.0, 0.0, 0.0, 0.0, c66]])"
      ]
     },
     "metadata": {},
     "output_type": "display_data"
    },
    {
     "data": {
      "text/latex": [
       "$\\displaystyle \\left[\\begin{matrix}\\eta_{1} & \\eta_{2} & \\eta_{3} & \\eta_{4} & \\eta_{5} & \\eta_{6}\\end{matrix}\\right]$"
      ],
      "text/plain": [
       "Matrix([[eta_1, eta_2, eta_3, eta_4, eta_5, eta_6]])"
      ]
     },
     "metadata": {},
     "output_type": "display_data"
    },
    {
     "data": {
      "text/latex": [
       "$\\displaystyle \\frac{V_{0} c_{11} \\eta_{1}^{2}}{2} + \\frac{V_{0} c_{11} \\eta_{2}^{2}}{2} + V_{0} c_{12} \\eta_{1} \\eta_{2} + \\frac{V_{0} c_{66} \\eta_{6}^{2}}{2}$"
      ],
      "text/plain": [
       "V_0*c11*eta_1**2/2 + V_0*c11*eta_2**2/2 + V_0*c12*eta_1*eta_2 + V_0*c66*eta_6**2/2"
      ]
     },
     "metadata": {},
     "output_type": "display_data"
    },
    {
     "name": "stdout",
     "output_type": "stream",
     "text": [
      "L strain:\n"
     ]
    },
    {
     "data": {
      "text/latex": [
       "$\\displaystyle \\left[\\begin{matrix}\\eta & 0 & 0 & 0 & 0 & 0\\end{matrix}\\right]$"
      ],
      "text/plain": [
       "Matrix([[eta, 0, 0, 0, 0, 0]])"
      ]
     },
     "metadata": {},
     "output_type": "display_data"
    },
    {
     "data": {
      "text/latex": [
       "$\\displaystyle \\frac{V_{0} c_{11} \\eta^{2}}{2}$"
      ],
      "text/plain": [
       "V_0*c11*eta**2/2"
      ]
     },
     "metadata": {},
     "output_type": "display_data"
    },
    {
     "name": "stdout",
     "output_type": "stream",
     "text": [
      "------------------------------\n",
      "L strain:\n"
     ]
    },
    {
     "data": {
      "text/latex": [
       "$\\displaystyle \\left[\\begin{matrix}\\eta & \\eta & 0 & 0 & 0 & 0\\end{matrix}\\right]$"
      ],
      "text/plain": [
       "Matrix([[eta, eta, 0, 0, 0, 0]])"
      ]
     },
     "metadata": {},
     "output_type": "display_data"
    },
    {
     "data": {
      "text/latex": [
       "$\\displaystyle V_{0} c_{11} \\eta^{2} + V_{0} c_{12} \\eta^{2}$"
      ],
      "text/plain": [
       "V_0*c11*eta**2 + V_0*c12*eta**2"
      ]
     },
     "metadata": {},
     "output_type": "display_data"
    },
    {
     "name": "stdout",
     "output_type": "stream",
     "text": [
      "------------------------------\n",
      "L strain:\n"
     ]
    },
    {
     "data": {
      "text/latex": [
       "$\\displaystyle \\left[\\begin{matrix}0 & 0 & 0 & 0 & 0 & \\eta\\end{matrix}\\right]$"
      ],
      "text/plain": [
       "Matrix([[0, 0, 0, 0, 0, eta]])"
      ]
     },
     "metadata": {},
     "output_type": "display_data"
    },
    {
     "data": {
      "text/latex": [
       "$\\displaystyle \\frac{V_{0} c_{66} \\eta^{2}}{2}$"
      ],
      "text/plain": [
       "V_0*c66*eta**2/2"
      ]
     },
     "metadata": {},
     "output_type": "display_data"
    }
   ],
   "source": [
    "\n",
    "c11,c12,c66=sympy.symbols('c11 c12 c66')\n",
    "y1,y2,y3, y4, y5,y6 = sympy.symbols('eta_1 eta_2 eta_3 eta_4 eta_5 eta_6')\n",
    "V=sympy.symbols('V_0')\n",
    "y=sympy.symbols('eta')\n",
    "\n",
    "C_sqr=sympy.Matrix(np.zeros((6,6)))\n",
    "C_sqr[0,0]=c11\n",
    "C_sqr[1,1]=c11\n",
    "C_sqr[5,5]=c66\n",
    "C_sqr[0,1]=c12\n",
    "C_sqr[1,0]=c12\n",
    "\n",
    "\n",
    "display(C_sqr)\n",
    "\n",
    "eps=sympy.Matrix([y1,y2,y3,y4,y5,y6])\n",
    "\n",
    "\n",
    "display(eps.T)\n",
    "\n",
    "E=sympy.expand(eps.T*C_sqr*eps*V/2)[0]\n",
    "display(E)\n",
    "\n",
    "#diff(E,y3,2)\n",
    "\n",
    "# for cubic system\n",
    "print('L strain:')\n",
    "display(sympy.Matrix([y,0,0,0,0,0]).T)\n",
    "E1=E.subs({y1:y,y2:0,y3:0,y4:0,y5:0,y6:0})\n",
    "display(E1)\n",
    "\n",
    "print('-'*30)\n",
    "print('L strain:')\n",
    "display(sympy.Matrix([y,y,0,0,0,0]).T)\n",
    "E2=E.subs({y1:y,y2:y,y3:0,y4:0,y5:0,y6:0})\n",
    "display(E2)\n",
    "\n",
    "print('-'*30)\n",
    "print('L strain:')\n",
    "display(sympy.Matrix([0,0,0,0,0,y]).T)\n",
    "E3=E.subs({y1:0,y2:0,y3:0,y4:0,y5:0,y6:y})\n",
    "display(E3)"
   ]
  },
  {
   "cell_type": "markdown",
   "metadata": {},
   "source": [
    "## square lattice (IV)\n",
    "\n",
    "the selected L strain is :\n",
    "\n",
    "[𝜂00000]---->  01 A2[0]\n",
    "\n",
    "and \n",
    "\n",
    "[𝜂𝜂0000] ----> 02 A2[1]\n",
    "\n",
    "and \n",
    "\n",
    "[00000𝜂] ---> 04 A2[2]\n",
    "\n",
    "\n",
    "$\\frac{1}{2}C_{11}=A_2[0]$\n",
    "\n",
    "$C_{11}+C_{12}=A_2[1]$\n",
    "\n",
    "$\\frac{1}{2}C_{66}=A_2[2]$\n",
    "\n",
    "\n",
    "\n",
    "result:\n",
    "\n",
    "$C_{11}=2A_2[0]$   and  $C_{12}=A_2[1]-2A_2[0]$ and $C_{66}=2A_2[2]$\n",
    "\n",
    "The Born condition is:\n",
    "\n",
    "$C_{11}>0 \\& C_{66}>0 \\&C_{11}>|C_{12}| $\n"
   ]
  },
  {
   "cell_type": "markdown",
   "metadata": {},
   "source": [
    "# Energy method for  2D Rec system"
   ]
  },
  {
   "cell_type": "code",
   "execution_count": 5,
   "metadata": {},
   "outputs": [
    {
     "data": {
      "text/latex": [
       "$\\displaystyle \\left[\\begin{matrix}c_{11} & c_{12} & 0.0 & 0.0 & 0.0 & 0.0\\\\c_{12} & c_{22} & 0.0 & 0.0 & 0.0 & 0.0\\\\0.0 & 0.0 & 0.0 & 0.0 & 0.0 & 0.0\\\\0.0 & 0.0 & 0.0 & 0.0 & 0.0 & 0.0\\\\0.0 & 0.0 & 0.0 & 0.0 & 0.0 & 0.0\\\\0.0 & 0.0 & 0.0 & 0.0 & 0.0 & c_{66}\\end{matrix}\\right]$"
      ],
      "text/plain": [
       "Matrix([\n",
       "[c11, c12, 0.0, 0.0, 0.0, 0.0],\n",
       "[c12, c22, 0.0, 0.0, 0.0, 0.0],\n",
       "[0.0, 0.0, 0.0, 0.0, 0.0, 0.0],\n",
       "[0.0, 0.0, 0.0, 0.0, 0.0, 0.0],\n",
       "[0.0, 0.0, 0.0, 0.0, 0.0, 0.0],\n",
       "[0.0, 0.0, 0.0, 0.0, 0.0, c66]])"
      ]
     },
     "metadata": {},
     "output_type": "display_data"
    },
    {
     "data": {
      "text/latex": [
       "$\\displaystyle \\left[\\begin{matrix}\\eta_{1} & \\eta_{2} & \\eta_{3} & \\eta_{4} & \\eta_{5} & \\eta_{6}\\end{matrix}\\right]$"
      ],
      "text/plain": [
       "Matrix([[eta_1, eta_2, eta_3, eta_4, eta_5, eta_6]])"
      ]
     },
     "metadata": {},
     "output_type": "display_data"
    },
    {
     "data": {
      "text/latex": [
       "$\\displaystyle \\frac{V_{0} c_{11} \\eta_{1}^{2}}{2} + V_{0} c_{12} \\eta_{1} \\eta_{2} + \\frac{V_{0} c_{22} \\eta_{2}^{2}}{2} + \\frac{V_{0} c_{66} \\eta_{6}^{2}}{2}$"
      ],
      "text/plain": [
       "V_0*c11*eta_1**2/2 + V_0*c12*eta_1*eta_2 + V_0*c22*eta_2**2/2 + V_0*c66*eta_6**2/2"
      ]
     },
     "metadata": {},
     "output_type": "display_data"
    },
    {
     "name": "stdout",
     "output_type": "stream",
     "text": [
      "L strain:\n"
     ]
    },
    {
     "data": {
      "text/latex": [
       "$\\displaystyle \\left[\\begin{matrix}\\eta & 0 & 0 & 0 & 0 & 0\\end{matrix}\\right]$"
      ],
      "text/plain": [
       "Matrix([[eta, 0, 0, 0, 0, 0]])"
      ]
     },
     "metadata": {},
     "output_type": "display_data"
    },
    {
     "data": {
      "text/latex": [
       "$\\displaystyle \\frac{V_{0} c_{11} \\eta^{2}}{2}$"
      ],
      "text/plain": [
       "V_0*c11*eta**2/2"
      ]
     },
     "metadata": {},
     "output_type": "display_data"
    },
    {
     "name": "stdout",
     "output_type": "stream",
     "text": [
      "------------------------------\n",
      "L strain:\n"
     ]
    },
    {
     "data": {
      "text/latex": [
       "$\\displaystyle \\left[\\begin{matrix}\\eta & \\eta & 0 & 0 & 0 & 0\\end{matrix}\\right]$"
      ],
      "text/plain": [
       "Matrix([[eta, eta, 0, 0, 0, 0]])"
      ]
     },
     "metadata": {},
     "output_type": "display_data"
    },
    {
     "data": {
      "text/latex": [
       "$\\displaystyle \\frac{V_{0} c_{11} \\eta^{2}}{2} + V_{0} c_{12} \\eta^{2} + \\frac{V_{0} c_{22} \\eta^{2}}{2}$"
      ],
      "text/plain": [
       "V_0*c11*eta**2/2 + V_0*c12*eta**2 + V_0*c22*eta**2/2"
      ]
     },
     "metadata": {},
     "output_type": "display_data"
    },
    {
     "name": "stdout",
     "output_type": "stream",
     "text": [
      "------------------------------\n",
      "L strain:\n"
     ]
    },
    {
     "data": {
      "text/latex": [
       "$\\displaystyle \\left[\\begin{matrix}0 & \\eta & 0 & 0 & 0 & 0\\end{matrix}\\right]$"
      ],
      "text/plain": [
       "Matrix([[0, eta, 0, 0, 0, 0]])"
      ]
     },
     "metadata": {},
     "output_type": "display_data"
    },
    {
     "data": {
      "text/latex": [
       "$\\displaystyle \\frac{V_{0} c_{22} \\eta^{2}}{2}$"
      ],
      "text/plain": [
       "V_0*c22*eta**2/2"
      ]
     },
     "metadata": {},
     "output_type": "display_data"
    },
    {
     "name": "stdout",
     "output_type": "stream",
     "text": [
      "------------------------------\n",
      "L strain:\n"
     ]
    },
    {
     "data": {
      "text/latex": [
       "$\\displaystyle \\left[\\begin{matrix}0 & 0 & 0 & 0 & 0 & \\eta\\end{matrix}\\right]$"
      ],
      "text/plain": [
       "Matrix([[0, 0, 0, 0, 0, eta]])"
      ]
     },
     "metadata": {},
     "output_type": "display_data"
    },
    {
     "data": {
      "text/latex": [
       "$\\displaystyle \\frac{V_{0} c_{66} \\eta^{2}}{2}$"
      ],
      "text/plain": [
       "V_0*c66*eta**2/2"
      ]
     },
     "metadata": {},
     "output_type": "display_data"
    }
   ],
   "source": [
    "\n",
    "c11,c12,c22,c66=sympy.symbols('c11 c12 c22 c66')\n",
    "y1,y2,y3, y4, y5,y6 = sympy.symbols('eta_1 eta_2 eta_3 eta_4 eta_5 eta_6')\n",
    "V=sympy.symbols('V_0')\n",
    "y=sympy.symbols('eta')\n",
    "\n",
    "C_rec=sympy.Matrix(np.zeros((6,6)))\n",
    "C_rec[0,0]=c11\n",
    "C_rec[1,1]=c22\n",
    "C_rec[5,5]=c66\n",
    "C_rec[0,1]=c12\n",
    "C_rec[1,0]=c12\n",
    "\n",
    "\n",
    "display(C_rec)\n",
    "\n",
    "eps=sympy.Matrix([y1,y2,y3,y4,y5,y6])\n",
    "\n",
    "display(eps.T)\n",
    "\n",
    "E=sympy.expand(eps.T*C_rec*eps*V/2)[0]\n",
    "display(E)\n",
    "\n",
    "# for rec system\n",
    "print('L strain:')\n",
    "display(sympy.Matrix([y,0,0,0,0,0]).T)\n",
    "E1=E.subs({y1:y,y2:0,y3:0,y4:0,y5:0,y6:0})\n",
    "display(E1)\n",
    "#display(E)\n",
    "\n",
    "print('-'*30)\n",
    "print('L strain:')\n",
    "display(sympy.Matrix([y,y,0,0,0,0]).T)\n",
    "E2=E.subs({y1:y,y2:y,y3:0,y4:0,y5:0,y6:0})\n",
    "display(E2)\n",
    "\n",
    "print('-'*30)\n",
    "print('L strain:')\n",
    "display(sympy.Matrix([0,y,0,0,0,0]).T)\n",
    "E3=E.subs({y1:0,y2:y,y3:0,y4:0,y5:0,y6:0})\n",
    "display(E3)\n",
    "\n",
    "print('-'*30)\n",
    "print('L strain:')\n",
    "display(sympy.Matrix([0,0,0,0,0,y]).T)\n",
    "E4=E.subs({y1:0,y2:0,y3:0,y4:0,y5:0,y6:y})\n",
    "display(E4)"
   ]
  },
  {
   "cell_type": "markdown",
   "metadata": {},
   "source": [
    "## rectangular lattice (II) and centered rectangular lattice (III)\n",
    "\n",
    "the selected L strain is :\n",
    "\n",
    "[𝜂00000]---->  01 A2[0]\n",
    "\n",
    "and \n",
    "\n",
    "[𝜂𝜂0000] ----> 02 A2[1]\n",
    "\n",
    "and \n",
    "\n",
    "[0𝜂0000] ----> 03 A2[2]\n",
    "\n",
    "and \n",
    "\n",
    "[00000𝜂] ---> 04 A2[3]\n",
    "\n",
    "\n",
    "$\\frac{1}{2}C_{11}=A_2[0]$\n",
    "\n",
    "$\\frac{1}{2}C_{11}+C_{12}+\\frac{1}{2}C_{22}=A_2[1]$\n",
    "\n",
    "$\\frac{1}{2}C_{22}=A_2[2]$\n",
    "\n",
    "$\\frac{1}{2}C_{66}=A_2[3]$\n",
    "\n",
    "\n",
    "\n",
    "result:\n",
    "\n",
    "$C_{11}=2A_2[0]$   and  $C_{22}=2A_2[2]$ and $C_{12}=A_2[1]-A_2[0]-A_2[2]$ and $C_{66}=2A_2[3]$\n",
    "\n",
    "The Born condition is:\n",
    "\n",
    "$C_{11}>0 \\& C_{66}>0 \\&C_{11}C_{22}>C_{12}^2 $\n"
   ]
  },
  {
   "cell_type": "markdown",
   "metadata": {},
   "source": [
    "# Energy method for  2D Obl system"
   ]
  },
  {
   "cell_type": "code",
   "execution_count": 6,
   "metadata": {},
   "outputs": [
    {
     "data": {
      "text/latex": [
       "$\\displaystyle \\left[\\begin{matrix}c_{11} & c_{12} & 0.0 & 0.0 & 0.0 & C_{16}\\\\c_{12} & c_{22} & 0.0 & 0.0 & 0.0 & C_{26}\\\\0.0 & 0.0 & 0 & 0.0 & 0.0 & 0.0\\\\0.0 & 0.0 & 0.0 & 0 & 0.0 & 0.0\\\\0.0 & 0.0 & 0.0 & 0.0 & 0 & 0.0\\\\C_{16} & C_{26} & 0.0 & 0.0 & 0.0 & c_{66}\\end{matrix}\\right]$"
      ],
      "text/plain": [
       "Matrix([\n",
       "[c11, c12, 0.0, 0.0, 0.0, C16],\n",
       "[c12, c22, 0.0, 0.0, 0.0, C26],\n",
       "[0.0, 0.0,   0, 0.0, 0.0, 0.0],\n",
       "[0.0, 0.0, 0.0,   0, 0.0, 0.0],\n",
       "[0.0, 0.0, 0.0, 0.0,   0, 0.0],\n",
       "[C16, C26, 0.0, 0.0, 0.0, c66]])"
      ]
     },
     "metadata": {},
     "output_type": "display_data"
    },
    {
     "data": {
      "text/latex": [
       "$\\displaystyle \\left[\\begin{matrix}\\eta_{1} & \\eta_{2} & \\eta_{3} & \\eta_{4} & \\eta_{5} & \\eta_{6}\\end{matrix}\\right]$"
      ],
      "text/plain": [
       "Matrix([[eta_1, eta_2, eta_3, eta_4, eta_5, eta_6]])"
      ]
     },
     "metadata": {},
     "output_type": "display_data"
    },
    {
     "data": {
      "text/latex": [
       "$\\displaystyle C_{16} V_{0} \\eta_{1} \\eta_{6} + C_{26} V_{0} \\eta_{2} \\eta_{6} + \\frac{V_{0} c_{11} \\eta_{1}^{2}}{2} + V_{0} c_{12} \\eta_{1} \\eta_{2} + \\frac{V_{0} c_{22} \\eta_{2}^{2}}{2} + \\frac{V_{0} c_{66} \\eta_{6}^{2}}{2}$"
      ],
      "text/plain": [
       "C16*V_0*eta_1*eta_6 + C26*V_0*eta_2*eta_6 + V_0*c11*eta_1**2/2 + V_0*c12*eta_1*eta_2 + V_0*c22*eta_2**2/2 + V_0*c66*eta_6**2/2"
      ]
     },
     "metadata": {},
     "output_type": "display_data"
    },
    {
     "name": "stdout",
     "output_type": "stream",
     "text": [
      "L strain:\n"
     ]
    },
    {
     "data": {
      "text/latex": [
       "$\\displaystyle \\left[\\begin{matrix}\\eta & 0 & 0 & 0 & 0 & 0\\end{matrix}\\right]$"
      ],
      "text/plain": [
       "Matrix([[eta, 0, 0, 0, 0, 0]])"
      ]
     },
     "metadata": {},
     "output_type": "display_data"
    },
    {
     "data": {
      "text/latex": [
       "$\\displaystyle \\frac{V_{0} c_{11} \\eta^{2}}{2}$"
      ],
      "text/plain": [
       "V_0*c11*eta**2/2"
      ]
     },
     "metadata": {},
     "output_type": "display_data"
    },
    {
     "name": "stdout",
     "output_type": "stream",
     "text": [
      "------------------------------\n",
      "L strain:\n"
     ]
    },
    {
     "data": {
      "text/latex": [
       "$\\displaystyle \\left[\\begin{matrix}\\eta & \\eta & 0 & 0 & 0 & 0\\end{matrix}\\right]$"
      ],
      "text/plain": [
       "Matrix([[eta, eta, 0, 0, 0, 0]])"
      ]
     },
     "metadata": {},
     "output_type": "display_data"
    },
    {
     "data": {
      "text/latex": [
       "$\\displaystyle \\frac{V_{0} c_{11} \\eta^{2}}{2} + V_{0} c_{12} \\eta^{2} + \\frac{V_{0} c_{22} \\eta^{2}}{2}$"
      ],
      "text/plain": [
       "V_0*c11*eta**2/2 + V_0*c12*eta**2 + V_0*c22*eta**2/2"
      ]
     },
     "metadata": {},
     "output_type": "display_data"
    },
    {
     "name": "stdout",
     "output_type": "stream",
     "text": [
      "------------------------------\n",
      "L strain:\n"
     ]
    },
    {
     "data": {
      "text/latex": [
       "$\\displaystyle \\left[\\begin{matrix}0 & \\eta & 0 & 0 & 0 & 0\\end{matrix}\\right]$"
      ],
      "text/plain": [
       "Matrix([[0, eta, 0, 0, 0, 0]])"
      ]
     },
     "metadata": {},
     "output_type": "display_data"
    },
    {
     "data": {
      "text/latex": [
       "$\\displaystyle \\frac{V_{0} c_{22} \\eta^{2}}{2}$"
      ],
      "text/plain": [
       "V_0*c22*eta**2/2"
      ]
     },
     "metadata": {},
     "output_type": "display_data"
    },
    {
     "name": "stdout",
     "output_type": "stream",
     "text": [
      "------------------------------\n",
      "L strain:\n"
     ]
    },
    {
     "data": {
      "text/latex": [
       "$\\displaystyle \\left[\\begin{matrix}0 & 0 & 0 & 0 & 0 & \\eta\\end{matrix}\\right]$"
      ],
      "text/plain": [
       "Matrix([[0, 0, 0, 0, 0, eta]])"
      ]
     },
     "metadata": {},
     "output_type": "display_data"
    },
    {
     "data": {
      "text/latex": [
       "$\\displaystyle \\frac{V_{0} c_{66} \\eta^{2}}{2}$"
      ],
      "text/plain": [
       "V_0*c66*eta**2/2"
      ]
     },
     "metadata": {},
     "output_type": "display_data"
    },
    {
     "name": "stdout",
     "output_type": "stream",
     "text": [
      "------------------------------\n",
      "L strain:\n"
     ]
    },
    {
     "data": {
      "text/latex": [
       "$\\displaystyle \\left[\\begin{matrix}\\eta & 0 & 0 & 0 & 0 & \\eta\\end{matrix}\\right]$"
      ],
      "text/plain": [
       "Matrix([[eta, 0, 0, 0, 0, eta]])"
      ]
     },
     "metadata": {},
     "output_type": "display_data"
    },
    {
     "data": {
      "text/latex": [
       "$\\displaystyle C_{16} V_{0} \\eta^{2} + \\frac{V_{0} c_{11} \\eta^{2}}{2} + \\frac{V_{0} c_{66} \\eta^{2}}{2}$"
      ],
      "text/plain": [
       "C16*V_0*eta**2 + V_0*c11*eta**2/2 + V_0*c66*eta**2/2"
      ]
     },
     "metadata": {},
     "output_type": "display_data"
    },
    {
     "name": "stdout",
     "output_type": "stream",
     "text": [
      "------------------------------\n",
      "L strain:\n"
     ]
    },
    {
     "data": {
      "text/latex": [
       "$\\displaystyle \\left[\\begin{matrix}0 & \\eta & 0 & 0 & 0 & \\eta\\end{matrix}\\right]$"
      ],
      "text/plain": [
       "Matrix([[0, eta, 0, 0, 0, eta]])"
      ]
     },
     "metadata": {},
     "output_type": "display_data"
    },
    {
     "data": {
      "text/latex": [
       "$\\displaystyle C_{26} V_{0} \\eta^{2} + \\frac{V_{0} c_{22} \\eta^{2}}{2} + \\frac{V_{0} c_{66} \\eta^{2}}{2}$"
      ],
      "text/plain": [
       "C26*V_0*eta**2 + V_0*c22*eta**2/2 + V_0*c66*eta**2/2"
      ]
     },
     "metadata": {},
     "output_type": "display_data"
    }
   ],
   "source": [
    "\n",
    "c11,c12,c22,c16, c26, c66=sympy.symbols('c11 c12 c22 C16 C26 c66')\n",
    "y1,y2,y3, y4, y5,y6 = sympy.symbols('eta_1 eta_2 eta_3 eta_4 eta_5 eta_6')\n",
    "V=sympy.symbols('V_0')\n",
    "y=sympy.symbols('eta')\n",
    "\n",
    "C_obl=sympy.Matrix(np.zeros((6,6)))\n",
    "C_obl[0,0]=c11\n",
    "C_obl[1,1]=c22\n",
    "C_obl[2,2]=0\n",
    "C_obl[3,3]=0\n",
    "C_obl[4,4]=0\n",
    "C_obl[5,5]=c66\n",
    "C_obl[0,1]=c12\n",
    "C_obl[1,0]=c12\n",
    "C_obl[0,5]=c16\n",
    "C_obl[5,0]=c16\n",
    "C_obl[1,5]=c26\n",
    "C_obl[5,1]=c26\n",
    "\n",
    "display(C_obl)\n",
    "\n",
    "eps=sympy.Matrix([y1,y2,y3,y4,y5,y6])\n",
    "\n",
    "\n",
    "display(eps.T)\n",
    "\n",
    "E=sympy.expand(eps.T*C_obl*eps*V/2)[0]\n",
    "display(E)\n",
    "\n",
    "#diff(E,y3,2)\n",
    "\n",
    "\n",
    "print('L strain:')\n",
    "display(sympy.Matrix([y,0,0,0,0,0]).T)\n",
    "E1=E.subs({y1:y,y2:0,y3:0,y4:0,y5:0,y6:0})\n",
    "display(E1)\n",
    "\n",
    "print('-'*30)\n",
    "print('L strain:')\n",
    "display(sympy.Matrix([y,y,0,0,0,0]).T)\n",
    "E2=E.subs({y1:y,y2:y,y3:0,y4:0,y5:0,y6:0})\n",
    "display(E2)\n",
    "\n",
    "print('-'*30)\n",
    "print('L strain:')\n",
    "display(sympy.Matrix([0,y,0,0,0,0]).T)\n",
    "E3=E.subs({y1:0,y2:y,y3:0,y4:0,y5:0,y6:0})\n",
    "display(E3)\n",
    "\n",
    "print('-'*30)\n",
    "print('L strain:')\n",
    "display(sympy.Matrix([0,0,0,0,0,y]).T)\n",
    "E4=E.subs({y1:0,y2:0,y3:0,y4:0,y5:0,y6:y})\n",
    "display(E4)\n",
    "\n",
    "\n",
    "print('-'*30)\n",
    "print('L strain:')\n",
    "display(sympy.Matrix([y,0,0,0,0,y]).T)\n",
    "E5=E.subs({y1:y,y2:0,y3:0,y4:0,y5:0,y6:y})\n",
    "display(E5)\n",
    "\n",
    "\n",
    "print('-'*30)\n",
    "print('L strain:')\n",
    "display(sympy.Matrix([0,y,0,0,0,y]).T)\n",
    "E6=E.subs({y1:0,y2:y,y3:0,y4:0,y5:0,y6:y})\n",
    "display(E6)"
   ]
  },
  {
   "cell_type": "markdown",
   "metadata": {},
   "source": [
    "## oblique lattice \n",
    "\n",
    "the selected L strain is :\n",
    "\n",
    "[𝜂00000]---->  01 A2[0]\n",
    "\n",
    "and \n",
    "\n",
    "[𝜂𝜂0000] ----> 02 A2[1]\n",
    "\n",
    "and \n",
    "\n",
    "[0𝜂0000] ----> 03 A2[2]\n",
    "\n",
    "and \n",
    "\n",
    "[000002𝜂] ---> 04 A2[3]\n",
    "\n",
    "and \n",
    "\n",
    "[𝜂00002𝜂] ---> 05  A2[4] \n",
    "\n",
    "and \n",
    "\n",
    "[0𝜂0002𝜂] ---> 06 A2[5]\n",
    "\n",
    "\n",
    "$\\frac{1}{2}C_{11}=A_2[0]$\n",
    "\n",
    "$\\frac{1}{2}C_{11}+C_{12}+\\frac{1}{2}C_{22}=A_2[1]$\n",
    "\n",
    "$\\frac{1}{2}C_{22}=A_2[2]$\n",
    "\n",
    "$\\frac{1}{2}C_{66}=A_2[3]$\n",
    "\n",
    "$2C_{16}+\\frac{1}{2}C_{11}+\\frac{1}{2}C_{66}=A_2[4]$\n",
    "\n",
    "$2C_{26}+\\frac{1}{2}C_{22}+\\frac{1}{2}C_{66}=A_2[5]$\n",
    "\n",
    "\n",
    "\n",
    "result:\n",
    "\n",
    "$C_{11}=2A_2[0]$   and  $C_{22}=2A_2[2]$ and $C_{12}=A_2[1]-A_2[0]-A_2[2]$ and $C_{66}=\\frac{1}{2}A_2[3]$ \n",
    "\n",
    "and \n",
    "\n",
    "$C_{16}=\\frac{1}{2}(A_2[4]-A_2[0]-A_2[3])$  and $C_{26}=\\frac{1}{2}(A_2[4]-A_2[0]-A_2[2])$ \n",
    "\n",
    "The Born condition is:\n",
    "\n",
    "$C_{11}>0 \\& C_{66}>0 \\&C_{11}C_{22}>C_{12}^2 and \\det(C_{ij})>0 $\n"
   ]
  },
  {
   "cell_type": "markdown",
   "metadata": {},
   "source": [
    "# Stress method for 2D hex"
   ]
  },
  {
   "cell_type": "code",
   "execution_count": 7,
   "metadata": {},
   "outputs": [
    {
     "data": {
      "text/latex": [
       "$\\displaystyle \\left[\\begin{matrix}c_{11} & c_{12} & 0 & 0.0 & 0.0 & 0.0\\\\c_{12} & c_{11} & 0 & 0.0 & 0.0 & 0.0\\\\0 & 0 & 0 & 0.0 & 0.0 & 0.0\\\\0.0 & 0.0 & 0.0 & 0 & 0.0 & 0.0\\\\0.0 & 0.0 & 0.0 & 0.0 & 0 & 0.0\\\\0.0 & 0.0 & 0.0 & 0.0 & 0.0 & \\frac{c_{11}}{2} - \\frac{c_{12}}{2}\\end{matrix}\\right]$"
      ],
      "text/plain": [
       "Matrix([\n",
       "[c11, c12,   0, 0.0, 0.0,           0.0],\n",
       "[c12, c11,   0, 0.0, 0.0,           0.0],\n",
       "[  0,   0,   0, 0.0, 0.0,           0.0],\n",
       "[0.0, 0.0, 0.0,   0, 0.0,           0.0],\n",
       "[0.0, 0.0, 0.0, 0.0,   0,           0.0],\n",
       "[0.0, 0.0, 0.0, 0.0, 0.0, c11/2 - c12/2]])"
      ]
     },
     "metadata": {},
     "output_type": "display_data"
    },
    {
     "data": {
      "text/latex": [
       "$\\displaystyle \\left[\\begin{matrix}\\eta_{1} & \\eta_{2} & \\eta_{3} & \\eta_{4} & \\eta_{5} & \\eta_{6}\\end{matrix}\\right]$"
      ],
      "text/plain": [
       "Matrix([[eta_1, eta_2, eta_3, eta_4, eta_5, eta_6]])"
      ]
     },
     "metadata": {},
     "output_type": "display_data"
    },
    {
     "data": {
      "text/latex": [
       "$\\displaystyle \\left[\\begin{matrix}c_{11} \\eta_{1} + c_{12} \\eta_{2}\\\\c_{11} \\eta_{2} + c_{12} \\eta_{1}\\\\0\\\\0\\\\0\\\\\\frac{c_{11} \\eta_{6}}{2} - \\frac{c_{12} \\eta_{6}}{2}\\end{matrix}\\right]$"
      ],
      "text/plain": [
       "Matrix([\n",
       "[    c11*eta_1 + c12*eta_2],\n",
       "[    c11*eta_2 + c12*eta_1],\n",
       "[                        0],\n",
       "[                        0],\n",
       "[                        0],\n",
       "[c11*eta_6/2 - c12*eta_6/2]])"
      ]
     },
     "metadata": {},
     "output_type": "display_data"
    },
    {
     "name": "stdout",
     "output_type": "stream",
     "text": [
      "L strain:\n"
     ]
    },
    {
     "data": {
      "text/latex": [
       "$\\displaystyle \\left[\\begin{matrix}\\eta & 0 & 0 & 0 & 0 & 2 \\eta\\end{matrix}\\right]$"
      ],
      "text/plain": [
       "Matrix([[eta, 0, 0, 0, 0, 2*eta]])"
      ]
     },
     "metadata": {},
     "output_type": "display_data"
    },
    {
     "name": "stdout",
     "output_type": "stream",
     "text": [
      "L stress:\n"
     ]
    },
    {
     "data": {
      "text/latex": [
       "$\\displaystyle \\left[\\begin{matrix}c_{11} \\eta\\\\c_{12} \\eta\\\\0\\\\0\\\\0\\\\c_{11} \\eta - c_{12} \\eta\\end{matrix}\\right]$"
      ],
      "text/plain": [
       "Matrix([\n",
       "[          c11*eta],\n",
       "[          c12*eta],\n",
       "[                0],\n",
       "[                0],\n",
       "[                0],\n",
       "[c11*eta - c12*eta]])"
      ]
     },
     "metadata": {},
     "output_type": "display_data"
    }
   ],
   "source": [
    "#hex system\n",
    "c11,c12=sympy.symbols('c11 c12')\n",
    "y1,y2,y3, y4, y5,y6 = sympy.symbols('eta_1 eta_2 eta_3 eta_4 eta_5 eta_6')\n",
    "V=sympy.symbols('V_0')\n",
    "y=sympy.symbols('eta')\n",
    "\n",
    "C_hex=sympy.Matrix(np.zeros((6,6)))\n",
    "C_hex[0,0]=c11\n",
    "C_hex[1,1]=c11\n",
    "C_hex[2,2]=0\n",
    "C_hex[3,3]=0\n",
    "C_hex[4,4]=0\n",
    "C_hex[5,5]=(c11-c12)/2\n",
    "C_hex[0,1]=c12\n",
    "C_hex[1,0]=c12\n",
    "C_hex[0,2]=0\n",
    "C_hex[2,0]=0\n",
    "C_hex[1,2]=0\n",
    "C_hex[2,1]=0\n",
    "\n",
    "display(C_hex)\n",
    "\n",
    "eps=sympy.Matrix([y1,y2,y3,y4,y5,y6])\n",
    "\n",
    "#'07':[ 1., 2., 0., 0., 0., 3.],\\\n",
    "#'08':[-2., 1., 0., 0., 0.,-3.],\\\n",
    "#'09':[ 1.,-3., 0., 0., 0.,-2]}\n",
    "\n",
    "display(eps.T)\n",
    "\n",
    "T=sympy.expand(C_hex*eps)\n",
    "display(T)\n",
    "\n",
    "# for hex system\n",
    "print('L strain:')\n",
    "display(sympy.Matrix([y,0,0,0,0,2*y]).T)\n",
    "T1=T.subs({y1:y,y2:0,y3:0,y4:0,y5:0,y6:2*y})\n",
    "print(\"L stress:\")\n",
    "display(T1)\n"
   ]
  },
  {
   "cell_type": "markdown",
   "metadata": {},
   "source": [
    "# Stress method  for Square"
   ]
  },
  {
   "cell_type": "code",
   "execution_count": 8,
   "metadata": {},
   "outputs": [
    {
     "data": {
      "text/latex": [
       "$\\displaystyle \\left[\\begin{matrix}c_{11} & c_{12} & 0 & 0.0 & 0.0 & 0.0\\\\c_{12} & c_{11} & 0 & 0.0 & 0.0 & 0.0\\\\0 & 0 & 0 & 0.0 & 0.0 & 0.0\\\\0.0 & 0.0 & 0.0 & 0 & 0.0 & 0.0\\\\0.0 & 0.0 & 0.0 & 0.0 & 0 & 0.0\\\\0.0 & 0.0 & 0.0 & 0.0 & 0.0 & c_{66}\\end{matrix}\\right]$"
      ],
      "text/plain": [
       "Matrix([\n",
       "[c11, c12,   0, 0.0, 0.0, 0.0],\n",
       "[c12, c11,   0, 0.0, 0.0, 0.0],\n",
       "[  0,   0,   0, 0.0, 0.0, 0.0],\n",
       "[0.0, 0.0, 0.0,   0, 0.0, 0.0],\n",
       "[0.0, 0.0, 0.0, 0.0,   0, 0.0],\n",
       "[0.0, 0.0, 0.0, 0.0, 0.0, c66]])"
      ]
     },
     "metadata": {},
     "output_type": "display_data"
    },
    {
     "data": {
      "text/latex": [
       "$\\displaystyle \\left[\\begin{matrix}c_{11} \\eta_{1} + c_{12} \\eta_{2}\\\\c_{11} \\eta_{2} + c_{12} \\eta_{1}\\\\0\\\\0\\\\0\\\\c_{66} \\eta_{6}\\end{matrix}\\right]$"
      ],
      "text/plain": [
       "Matrix([\n",
       "[c11*eta_1 + c12*eta_2],\n",
       "[c11*eta_2 + c12*eta_1],\n",
       "[                    0],\n",
       "[                    0],\n",
       "[                    0],\n",
       "[            c66*eta_6]])"
      ]
     },
     "metadata": {},
     "output_type": "display_data"
    },
    {
     "name": "stdout",
     "output_type": "stream",
     "text": [
      "L strain:\n"
     ]
    },
    {
     "data": {
      "text/latex": [
       "$\\displaystyle \\left[\\begin{matrix}\\eta & 0 & 0 & 0 & 0 & 2 \\eta\\end{matrix}\\right]$"
      ],
      "text/plain": [
       "Matrix([[eta, 0, 0, 0, 0, 2*eta]])"
      ]
     },
     "metadata": {},
     "output_type": "display_data"
    },
    {
     "name": "stdout",
     "output_type": "stream",
     "text": [
      "L stress:\n"
     ]
    },
    {
     "data": {
      "text/latex": [
       "$\\displaystyle \\left[\\begin{matrix}c_{11} \\eta\\\\c_{12} \\eta\\\\0\\\\0\\\\0\\\\2 c_{66} \\eta\\end{matrix}\\right]$"
      ],
      "text/plain": [
       "Matrix([\n",
       "[  c11*eta],\n",
       "[  c12*eta],\n",
       "[        0],\n",
       "[        0],\n",
       "[        0],\n",
       "[2*c66*eta]])"
      ]
     },
     "metadata": {},
     "output_type": "display_data"
    }
   ],
   "source": [
    "\n",
    "c11,c12,c66=sympy.symbols('c11 c12 c66')\n",
    "y1,y2,y3, y4, y5,y6 = sympy.symbols('eta_1 eta_2 eta_3 eta_4 eta_5 eta_6')\n",
    "V=sympy.symbols('V_0')\n",
    "y=sympy.symbols('eta')\n",
    "\n",
    "C_sqr=sympy.Matrix(np.zeros((6,6)))\n",
    "C_sqr[0,0]=c11\n",
    "C_sqr[1,1]=c11\n",
    "C_sqr[2,2]=0\n",
    "C_sqr[3,3]=0\n",
    "C_sqr[4,4]=0\n",
    "C_sqr[5,5]=c66\n",
    "C_sqr[0,1]=c12\n",
    "C_sqr[1,0]=c12\n",
    "C_sqr[0,2]=0\n",
    "C_sqr[2,0]=0\n",
    "C_sqr[1,2]=0\n",
    "C_sqr[2,1]=0\n",
    "\n",
    "display(C_sqr)\n",
    "\n",
    "eps=sympy.Matrix([y1,y2,y3,y4,y5,y6])\n",
    "\n",
    "\n",
    "T=sympy.expand(C_sqr*eps)\n",
    "display(T)\n",
    "\n",
    "# for sq system\n",
    "print('L strain:')\n",
    "display(sympy.Matrix([y,0,0,0,0,2*y]).T)\n",
    "T1=T.subs({y1:y,y2:0,y3:0,y4:0,y5:0,y6:2*y})\n",
    "print(\"L stress:\")\n",
    "display(T1)\n"
   ]
  },
  {
   "cell_type": "markdown",
   "metadata": {},
   "source": [
    "# Stress method  for rectangle"
   ]
  },
  {
   "cell_type": "code",
   "execution_count": 9,
   "metadata": {},
   "outputs": [
    {
     "data": {
      "text/latex": [
       "$\\displaystyle \\left[\\begin{matrix}c_{11} & c_{12} & 0.0 & 0.0 & 0.0 & 0.0\\\\c_{12} & c_{22} & 0.0 & 0.0 & 0.0 & 0.0\\\\0.0 & 0.0 & 0.0 & 0.0 & 0.0 & 0.0\\\\0.0 & 0.0 & 0.0 & 0.0 & 0.0 & 0.0\\\\0.0 & 0.0 & 0.0 & 0.0 & 0.0 & 0.0\\\\0.0 & 0.0 & 0.0 & 0.0 & 0.0 & c_{66}\\end{matrix}\\right]$"
      ],
      "text/plain": [
       "Matrix([\n",
       "[c11, c12, 0.0, 0.0, 0.0, 0.0],\n",
       "[c12, c22, 0.0, 0.0, 0.0, 0.0],\n",
       "[0.0, 0.0, 0.0, 0.0, 0.0, 0.0],\n",
       "[0.0, 0.0, 0.0, 0.0, 0.0, 0.0],\n",
       "[0.0, 0.0, 0.0, 0.0, 0.0, 0.0],\n",
       "[0.0, 0.0, 0.0, 0.0, 0.0, c66]])"
      ]
     },
     "metadata": {},
     "output_type": "display_data"
    },
    {
     "data": {
      "text/latex": [
       "$\\displaystyle \\left[\\begin{matrix}c_{11} \\eta_{1} + c_{12} \\eta_{2}\\\\c_{12} \\eta_{1} + c_{22} \\eta_{2}\\\\0\\\\0\\\\0\\\\c_{66} \\eta_{6}\\end{matrix}\\right]$"
      ],
      "text/plain": [
       "Matrix([\n",
       "[c11*eta_1 + c12*eta_2],\n",
       "[c12*eta_1 + c22*eta_2],\n",
       "[                    0],\n",
       "[                    0],\n",
       "[                    0],\n",
       "[            c66*eta_6]])"
      ]
     },
     "metadata": {},
     "output_type": "display_data"
    },
    {
     "name": "stdout",
     "output_type": "stream",
     "text": [
      "L strain:\n"
     ]
    },
    {
     "data": {
      "text/latex": [
       "$\\displaystyle \\left[\\begin{matrix}\\eta & \\eta & 0 & 0 & 0 & 0\\end{matrix}\\right]$"
      ],
      "text/plain": [
       "Matrix([[eta, eta, 0, 0, 0, 0]])"
      ]
     },
     "metadata": {},
     "output_type": "display_data"
    },
    {
     "name": "stdout",
     "output_type": "stream",
     "text": [
      "L stress:\n"
     ]
    },
    {
     "data": {
      "text/latex": [
       "$\\displaystyle \\left[\\begin{matrix}c_{11} \\eta + c_{12} \\eta\\\\c_{12} \\eta + c_{22} \\eta\\\\0\\\\0\\\\0\\\\0\\end{matrix}\\right]$"
      ],
      "text/plain": [
       "Matrix([\n",
       "[c11*eta + c12*eta],\n",
       "[c12*eta + c22*eta],\n",
       "[                0],\n",
       "[                0],\n",
       "[                0],\n",
       "[                0]])"
      ]
     },
     "metadata": {},
     "output_type": "display_data"
    },
    {
     "name": "stdout",
     "output_type": "stream",
     "text": [
      "L strain:\n"
     ]
    },
    {
     "data": {
      "text/latex": [
       "$\\displaystyle \\left[\\begin{matrix}\\eta & 0 & 0 & 0 & 0 & 2 \\eta\\end{matrix}\\right]$"
      ],
      "text/plain": [
       "Matrix([[eta, 0, 0, 0, 0, 2*eta]])"
      ]
     },
     "metadata": {},
     "output_type": "display_data"
    },
    {
     "name": "stdout",
     "output_type": "stream",
     "text": [
      "L stress:\n"
     ]
    },
    {
     "data": {
      "text/latex": [
       "$\\displaystyle \\left[\\begin{matrix}c_{11} \\eta\\\\c_{12} \\eta\\\\0\\\\0\\\\0\\\\2 c_{66} \\eta\\end{matrix}\\right]$"
      ],
      "text/plain": [
       "Matrix([\n",
       "[  c11*eta],\n",
       "[  c12*eta],\n",
       "[        0],\n",
       "[        0],\n",
       "[        0],\n",
       "[2*c66*eta]])"
      ]
     },
     "metadata": {},
     "output_type": "display_data"
    }
   ],
   "source": [
    "c11,c12,c22,c66=sympy.symbols('c11 c12 c22 c66')\n",
    "y1,y2,y3, y4, y5,y6 = sympy.symbols('eta_1 eta_2 eta_3 eta_4 eta_5 eta_6')\n",
    "V=sympy.symbols('V_0')\n",
    "y=sympy.symbols('eta')\n",
    "\n",
    "C_rec=sympy.Matrix(np.zeros((6,6)))\n",
    "C_rec[0,0]=c11\n",
    "C_rec[1,1]=c22\n",
    "C_rec[5,5]=c66\n",
    "C_rec[0,1]=c12\n",
    "C_rec[1,0]=c12\n",
    "\n",
    "\n",
    "display(C_rec)\n",
    "\n",
    "eps=sympy.Matrix([y1,y2,y3,y4,y5,y6])\n",
    "\n",
    "T=sympy.expand(C_rec*eps)\n",
    "display(T)\n",
    "\n",
    "\n",
    "print('L strain:')\n",
    "display(sympy.Matrix([y,y,0,0,0,0]).T)\n",
    "T1=T.subs({y1:y,y2:y,y3:0,y4:0,y5:0,y6:0})\n",
    "print(\"L stress:\")\n",
    "display(T1)\n",
    "\n",
    "\n",
    "# for rec system\n",
    "print('L strain:')\n",
    "strain=sympy.Matrix([y,0,0,0,0,2*y]).T\n",
    "display(strain)\n",
    "T1=T.subs({y1:y,y2:0,y3:0,y4:0,y5:0,y6:2*y})\n",
    "print(\"L stress:\")\n",
    "display(T1)\n",
    "\n",
    "\n",
    "\n",
    "\n",
    "\n",
    "\n"
   ]
  },
  {
   "cell_type": "markdown",
   "metadata": {},
   "source": [
    "# Stress method  for oblique"
   ]
  },
  {
   "cell_type": "code",
   "execution_count": 10,
   "metadata": {},
   "outputs": [
    {
     "data": {
      "text/latex": [
       "$\\displaystyle \\left[\\begin{matrix}c_{11} & c_{12} & 0.0 & 0.0 & 0.0 & C_{16}\\\\c_{12} & c_{22} & 0.0 & 0.0 & 0.0 & C_{26}\\\\0.0 & 0.0 & 0 & 0.0 & 0.0 & 0.0\\\\0.0 & 0.0 & 0.0 & 0 & 0.0 & 0.0\\\\0.0 & 0.0 & 0.0 & 0.0 & 0 & 0.0\\\\C_{16} & C_{26} & 0.0 & 0.0 & 0.0 & c_{66}\\end{matrix}\\right]$"
      ],
      "text/plain": [
       "Matrix([\n",
       "[c11, c12, 0.0, 0.0, 0.0, C16],\n",
       "[c12, c22, 0.0, 0.0, 0.0, C26],\n",
       "[0.0, 0.0,   0, 0.0, 0.0, 0.0],\n",
       "[0.0, 0.0, 0.0,   0, 0.0, 0.0],\n",
       "[0.0, 0.0, 0.0, 0.0,   0, 0.0],\n",
       "[C16, C26, 0.0, 0.0, 0.0, c66]])"
      ]
     },
     "metadata": {},
     "output_type": "display_data"
    },
    {
     "data": {
      "text/latex": [
       "$\\displaystyle \\left[\\begin{matrix}C_{16} \\eta_{6} + c_{11} \\eta_{1} + c_{12} \\eta_{2}\\\\C_{26} \\eta_{6} + c_{12} \\eta_{1} + c_{22} \\eta_{2}\\\\0\\\\0\\\\0\\\\C_{16} \\eta_{1} + C_{26} \\eta_{2} + c_{66} \\eta_{6}\\end{matrix}\\right]$"
      ],
      "text/plain": [
       "Matrix([\n",
       "[C16*eta_6 + c11*eta_1 + c12*eta_2],\n",
       "[C26*eta_6 + c12*eta_1 + c22*eta_2],\n",
       "[                                0],\n",
       "[                                0],\n",
       "[                                0],\n",
       "[C16*eta_1 + C26*eta_2 + c66*eta_6]])"
      ]
     },
     "metadata": {},
     "output_type": "display_data"
    },
    {
     "name": "stdout",
     "output_type": "stream",
     "text": [
      "L strain:\n"
     ]
    },
    {
     "data": {
      "text/latex": [
       "$\\displaystyle \\left[\\begin{matrix}\\eta & 0 & 0 & 0 & 0 & 0\\end{matrix}\\right]$"
      ],
      "text/plain": [
       "Matrix([[eta, 0, 0, 0, 0, 0]])"
      ]
     },
     "metadata": {},
     "output_type": "display_data"
    },
    {
     "name": "stdout",
     "output_type": "stream",
     "text": [
      "L stress:\n"
     ]
    },
    {
     "data": {
      "text/latex": [
       "$\\displaystyle \\left[\\begin{matrix}c_{11} \\eta\\\\c_{12} \\eta\\\\0\\\\0\\\\0\\\\C_{16} \\eta\\end{matrix}\\right]$"
      ],
      "text/plain": [
       "Matrix([\n",
       "[c11*eta],\n",
       "[c12*eta],\n",
       "[      0],\n",
       "[      0],\n",
       "[      0],\n",
       "[C16*eta]])"
      ]
     },
     "metadata": {},
     "output_type": "display_data"
    },
    {
     "name": "stdout",
     "output_type": "stream",
     "text": [
      "L strain:\n"
     ]
    },
    {
     "data": {
      "text/latex": [
       "$\\displaystyle \\left[\\begin{matrix}\\eta & \\eta & 0 & 0 & 0 & 0\\end{matrix}\\right]$"
      ],
      "text/plain": [
       "Matrix([[eta, eta, 0, 0, 0, 0]])"
      ]
     },
     "metadata": {},
     "output_type": "display_data"
    },
    {
     "name": "stdout",
     "output_type": "stream",
     "text": [
      "L stress:\n"
     ]
    },
    {
     "data": {
      "text/latex": [
       "$\\displaystyle \\left[\\begin{matrix}c_{11} \\eta + c_{12} \\eta\\\\c_{12} \\eta + c_{22} \\eta\\\\0\\\\0\\\\0\\\\C_{16} \\eta + C_{26} \\eta\\end{matrix}\\right]$"
      ],
      "text/plain": [
       "Matrix([\n",
       "[c11*eta + c12*eta],\n",
       "[c12*eta + c22*eta],\n",
       "[                0],\n",
       "[                0],\n",
       "[                0],\n",
       "[C16*eta + C26*eta]])"
      ]
     },
     "metadata": {},
     "output_type": "display_data"
    },
    {
     "name": "stdout",
     "output_type": "stream",
     "text": [
      "L strain:\n"
     ]
    },
    {
     "data": {
      "text/latex": [
       "$\\displaystyle \\left[\\begin{matrix}\\eta & 0 & 0 & 0 & 0 & 2 \\eta\\end{matrix}\\right]$"
      ],
      "text/plain": [
       "Matrix([[eta, 0, 0, 0, 0, 2*eta]])"
      ]
     },
     "metadata": {},
     "output_type": "display_data"
    },
    {
     "name": "stdout",
     "output_type": "stream",
     "text": [
      "L stress:\n"
     ]
    },
    {
     "data": {
      "text/latex": [
       "$\\displaystyle \\left[\\begin{matrix}2 C_{16} \\eta + c_{11} \\eta\\\\2 C_{26} \\eta + c_{12} \\eta\\\\0\\\\0\\\\0\\\\C_{16} \\eta + 2 c_{66} \\eta\\end{matrix}\\right]$"
      ],
      "text/plain": [
       "Matrix([\n",
       "[2*C16*eta + c11*eta],\n",
       "[2*C26*eta + c12*eta],\n",
       "[                  0],\n",
       "[                  0],\n",
       "[                  0],\n",
       "[C16*eta + 2*c66*eta]])"
      ]
     },
     "metadata": {},
     "output_type": "display_data"
    }
   ],
   "source": [
    "c11,c12,c22,c16, c26, c66=sympy.symbols('c11 c12 c22 C16 C26 c66')\n",
    "y1,y2,y3, y4, y5,y6 = sympy.symbols('eta_1 eta_2 eta_3 eta_4 eta_5 eta_6')\n",
    "V=sympy.symbols('V_0')\n",
    "y=sympy.symbols('eta')\n",
    "\n",
    "C_obl=sympy.Matrix(np.zeros((6,6)))\n",
    "C_obl[0,0]=c11\n",
    "C_obl[1,1]=c22\n",
    "C_obl[2,2]=0\n",
    "C_obl[3,3]=0\n",
    "C_obl[4,4]=0\n",
    "C_obl[5,5]=c66\n",
    "C_obl[0,1]=c12\n",
    "C_obl[1,0]=c12\n",
    "C_obl[0,5]=c16\n",
    "C_obl[5,0]=c16\n",
    "C_obl[1,5]=c26\n",
    "C_obl[5,1]=c26\n",
    "\n",
    "display(C_obl)\n",
    "\n",
    "eps=sympy.Matrix([y1,y2,y3,y4,y5,y6])\n",
    "\n",
    "\n",
    "T=sympy.expand(C_obl*eps)\n",
    "display(T)\n",
    "\n",
    "# for obl system\n",
    "# for rec system\n",
    "print('L strain:')\n",
    "display(sympy.Matrix([y,0,0,0,0,0]).T)\n",
    "T1=T.subs({y1:y,y2:0,y3:0,y4:0,y5:0,y6:0})\n",
    "print(\"L stress:\")\n",
    "display(T1)\n",
    "\n",
    "\n",
    "#[ 3.,-5.,-1., 6., 2.,-4.]\n",
    "print('L strain:')\n",
    "display(sympy.Matrix([y,y,0,0,0,0]).T)\n",
    "T1=T.subs({y1:y,y2:y,y3:0,y4:0,y5:0,y6:0})\n",
    "print(\"L stress:\")\n",
    "display(T1)\n",
    "\n",
    "\n",
    "#[ 3.,-5.,-1., 6., 2.,-4.]\n",
    "print('L strain:')\n",
    "display(sympy.Matrix([y,0,0,0,0,2*y]).T)\n",
    "T1=T.subs({y1:y,y2:0,y3:0,y4:0,y5:0,y6:2*y})\n",
    "print(\"L stress:\")\n",
    "display(T1)"
   ]
  },
  {
   "cell_type": "markdown",
   "metadata": {},
   "source": [
    "---------------\n",
    "\n",
    "# Tests Results\n",
    "\n",
    "## alpha-P-R\n",
    "```\n",
    "Full Formula (P4)\n",
    "Reduced Formula: P\n",
    "abc   :   3.297204   4.623351  20.024390\n",
    "angles:  90.000657  90.000000  90.000000\n",
    "Sites (4)\n",
    "  #  SP       a         b         c\n",
    "---  ----  ----  --------  --------\n",
    "  0  P      0.5  0.910773  0.552521\n",
    "  1  P      0.5  0.089227  0.447479\n",
    "  2  P     -0    0.410769  0.447479\n",
    "  3  P      0    0.589231  0.552521\n",
    "```\n",
    "\n",
    "* by vasp \n",
    "\n",
    "```\n",
    "```\n",
    "\n",
    "* by strain \n",
    "\n",
    "```\n",
    "-----------------------Elastic Tensor of P4 system (N/m)------------------------\n",
    "   103.486      17.800      -0.000      -0.000      -0.000      -0.000   \n",
    "    17.800      23.864      -0.000      -0.000      -0.000      -0.000   \n",
    "    -0.000      -0.000      -0.000      -0.000      -0.000      -0.000   \n",
    "    -0.000      -0.000      -0.000      -0.000      -0.000      -0.000   \n",
    "    -0.000      -0.000      -0.000      -0.000      -0.000      -0.000   \n",
    "    -0.000      -0.000      -0.000      -0.000      -0.000      22.631   \n",
    "```\n",
    "![Stress Elastic Tensor](./figs/alpha-P-R/elc_stress_Def_1_Lagrangian_Stress.jpg)\n",
    "![Stress Elastic Tensor](./figs/alpha-P-R/elc_stress_Def_2_Lagrangian_Stress.jpg)\n",
    "\n",
    "* by energy \n",
    "\n",
    "```\n",
    "-----------------------Elastic Tensor of P4 system (N/m)------------------------\n",
    "   103.413      17.101       0.000       0.000       0.000       0.000   \n",
    "    17.101      24.061       0.000       0.000       0.000       0.000   \n",
    "     0.000       0.000       0.000       0.000       0.000       0.000   \n",
    "     0.000       0.000       0.000       0.000       0.000       0.000   \n",
    "     0.000       0.000       0.000       0.000       0.000       0.000   \n",
    "     0.000       0.000       0.000       0.000       0.000      22.635   \n",
    "```\n",
    "![Energy Elastic Tensor](./figs/alpha-P-R/elc_energy_Def_1_Energy_Strain.jpg)\n",
    "![Energy Elastic Tensor](./figs/alpha-P-R/elc_energy_Def_2_Energy_Strain.jpg)\n",
    "![Energy Elastic Tensor](./figs/alpha-P-R/elc_energy_Def_3_Energy_Strain.jpg)\n",
    "![Energy Elastic Tensor](./figs/alpha-P-R/elc_energy_Def_4_Energy_Strain.jpg)\n",
    "\n",
    "Stress Strain Curve\n",
    "![Stress Strain Curve](./figs/alpha-P-R/ssc_stress_Def_bi_Lagrangian_Stress.jpg)\n",
    "![Stress Strain Curve](./figs/alpha-P-R/ssc_stress_Def_xx_Lagrangian_Stress.jpg)\n",
    "![Stress Strain Curve](./figs/alpha-P-R/ssc_stress_Def_xy_Lagrangian_Stress.jpg)\n",
    "![Stress Strain Curve](./figs/alpha-P-R/ssc_stress_Def_yy_Lagrangian_Stress.jpg)\n",
    "\n",
    "* by vaspkit energy \n",
    "\n",
    "```\n",
    "   104.8470    17.2969     0.0000\n",
    "    17.2969    24.6227     0.0000\n",
    "     0.0000     0.0000    22.9162\n",
    "```\n",
    "\n",
    "* by vaspkit stress \n",
    "\n",
    "```\n",
    "   103.7804    17.4734     0.0000\n",
    "    17.4734    24.4715     0.0000\n",
    "     0.0000     0.0000    22.3303\n",
    "```"
   ]
  },
  {
   "cell_type": "code",
   "execution_count": null,
   "metadata": {},
   "outputs": [],
   "source": []
  },
  {
   "cell_type": "code",
   "execution_count": null,
   "metadata": {},
   "outputs": [],
   "source": []
  }
 ],
 "metadata": {
  "kernelspec": {
   "display_name": "Python 3",
   "language": "python",
   "name": "python3"
  },
  "language_info": {
   "codemirror_mode": {
    "name": "ipython",
    "version": 3
   },
   "file_extension": ".py",
   "mimetype": "text/x-python",
   "name": "python",
   "nbconvert_exporter": "python",
   "pygments_lexer": "ipython3",
   "version": "3.7.7"
  }
 },
 "nbformat": 4,
 "nbformat_minor": 4
}
